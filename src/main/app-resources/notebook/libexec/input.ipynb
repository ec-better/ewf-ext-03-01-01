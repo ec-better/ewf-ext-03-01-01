{
 "cells": [
  {
   "cell_type": "markdown",
   "metadata": {},
   "source": [
    "## Mangrove detection"
   ]
  },
  {
   "cell_type": "markdown",
   "metadata": {},
   "source": [
    "The application runs deep learning to detect mangrove trees"
   ]
  },
  {
   "cell_type": "markdown",
   "metadata": {},
   "source": [
    "### <a name=\"service\">Service Definition"
   ]
  },
  {
   "cell_type": "code",
   "execution_count": 25,
   "metadata": {
    "collapsed": true
   },
   "outputs": [],
   "source": [
    "service = dict([('title', 'ewf-ext-03-01-01 - Mangrove detection'),\n",
    "                ('abstract', 'Image classification with deep learning for mangrove detection'),\n",
    "                ('id', 'ewf-ext-03-01-01')])"
   ]
  },
  {
   "cell_type": "markdown",
   "metadata": {},
   "source": [
    "### <a name=\"runtime\">Runtime parameter definition"
   ]
  },
  {
   "cell_type": "markdown",
   "metadata": {},
   "source": [
    "**Input identifier**\n",
    "\n",
    "This is the Sentinel-2 product identifier"
   ]
  },
  {
   "cell_type": "code",
   "execution_count": 87,
   "metadata": {
    "collapsed": true
   },
   "outputs": [],
   "source": [
    "input_identifier = 'S2B_MSIL2A_20190609T112119_N0212_R037_T28PDT_20190609T144134'"
   ]
  },
  {
   "cell_type": "markdown",
   "metadata": {},
   "source": [
    "**Input reference**\n",
    "\n",
    "This is the Sentinel-2 catalogue reference"
   ]
  },
  {
   "cell_type": "code",
   "execution_count": 88,
   "metadata": {
    "collapsed": false
   },
   "outputs": [],
   "source": [
    "input_reference = 'https://catalog.terradue.com/sentinel2/search?uid=S2B_MSIL2A_20190609T112119_N0212_R037_T28PDT_20190609T144134'"
   ]
  },
  {
   "cell_type": "markdown",
   "metadata": {},
   "source": [
    "**Data path**\n",
    "\n",
    "This path defines where the data is staged-in. "
   ]
  },
  {
   "cell_type": "code",
   "execution_count": 89,
   "metadata": {},
   "outputs": [],
   "source": [
    "data_path = '/workspace/data'"
   ]
  },
  {
   "cell_type": "code",
   "execution_count": 90,
   "metadata": {},
   "outputs": [],
   "source": [
    "my_data_path = data_path + \"/\" + input_identifier + \"/\" + input_identifier + \".SAFE\""
   ]
  },
  {
   "cell_type": "markdown",
   "metadata": {},
   "source": [
    "### <a name=\"workflow\">Workflow"
   ]
  },
  {
   "cell_type": "markdown",
   "metadata": {},
   "source": [
    "#### Import the packages required for processing the Sentinel-1 backscatter"
   ]
  },
  {
   "cell_type": "code",
   "execution_count": 91,
   "metadata": {
    "collapsed": true
   },
   "outputs": [],
   "source": [
    "import os\n",
    "import numpy as np\n",
    "import gdal\n",
    "import gc\n",
    "from tensorflow.keras import models\n",
    "import xml.etree.ElementTree as ET\n",
    "import sys\n",
    "\n",
    "os.environ['GDAL_DATA'] = '/opt/anaconda/share/gdal/'"
   ]
  },
  {
   "cell_type": "markdown",
   "metadata": {},
   "source": [
    "# PIPELINE"
   ]
  },
  {
   "cell_type": "markdown",
   "metadata": {},
   "source": [
    "#### Transform a 20m band into a 10m band"
   ]
  },
  {
   "cell_type": "code",
   "execution_count": 92,
   "metadata": {},
   "outputs": [],
   "source": [
    "def transform_image(pixel_res, resampling_method, t4, t5):\n",
    "    \"\"\"\n",
    "    Method to transform an image from one resolution to another\n",
    "\n",
    "    Parameters\n",
    "    ----------\n",
    "    pixel_res : float\n",
    "        resolution of the image to create\n",
    "    resampling_method : string\n",
    "        What method to use to transform the image\n",
    "    t4 : string\n",
    "        Location of the original file\n",
    "    t5 : string\n",
    "        Location of the final file\n",
    "\n",
    "    Returns\n",
    "    -------\n",
    "    0/1.\n",
    "\n",
    "    \"\"\"\n",
    "\n",
    "    #command = \"/opt/anaconda/envs/mangrove_final/bin/gdalwarp -overwrite -tr {} {} -r {} {} {}\".format(pixel_res,\n",
    "     #                                                             pixel_res,\n",
    "     #                                                             resampling_method,\n",
    "     #                                                             t4,\n",
    "     #                                                             t5)\n",
    "    \n",
    "    ds = gdal.Warp(srcDSOrSrcDSTab  = t4, destNameOrDestDS = t5, xRes=pixel_res, yRes=pixel_res, outputType=gdal.GDT_Int16)\n",
    "    #return os.system(command)"
   ]
  },
  {
   "cell_type": "markdown",
   "metadata": {},
   "source": [
    "#### Read the bands from the folder and transform them into a matrix"
   ]
  },
  {
   "cell_type": "code",
   "execution_count": 93,
   "metadata": {},
   "outputs": [],
   "source": [
    "def read_bands_to_array(folder_location):\n",
    "    \"\"\"\n",
    "    Read the necessary bands and returns an numpy array\n",
    "\n",
    "    Parameters\n",
    "    ----------\n",
    "    folder_location : string\n",
    "        Location of the folder with the sentinel 2 images\n",
    "\n",
    "    Returns\n",
    "    -------\n",
    "    img_array : numpy array 3 dim [image_rows, image_cols, n_bands]\n",
    "    \"\"\"\n",
    "    \n",
    "    # save path of all images\n",
    "    t_images = []\n",
    "    \n",
    "    # we will read the manifest to find the location of the bands that we want\n",
    "    print(folder_location + \"/manifest.safe\")\n",
    "    root = ET.parse(folder_location + \"/manifest.safe\").getroot()\n",
    "\n",
    "    action = root.find(\"./dataObjectSection/dataObject/[@ID='IMG_DATA_Band_B03_10m_Tile1_Data']\")\n",
    "    for n in action.iter():\n",
    "        if(n.tag == 'fileLocation'):\n",
    "            t = n.attrib\n",
    "            t1 = folder_location + t['href'][1:]\n",
    "            \n",
    "    action = root.find(\"./dataObjectSection/dataObject/[@ID='IMG_DATA_Band_B04_10m_Tile1_Data']\")\n",
    "    for n in action.iter():\n",
    "        if(n.tag == 'fileLocation'):\n",
    "            t = n.attrib\n",
    "            t_images.append(folder_location + t['href'][1:])\n",
    "\n",
    "\n",
    "    action = root.find(\"./dataObjectSection/dataObject/[@ID='IMG_DATA_Band_B08_10m_Tile1_Data']\")\n",
    "    for n in action.iter():\n",
    "        if(n.tag == 'fileLocation'):\n",
    "            t = n.attrib\n",
    "            t_images.append(folder_location + t['href'][1:])\n",
    "            \n",
    "    action = root.find(\"./dataObjectSection/dataObject/[@ID='IMG_DATA_Band_B11_20m_Tile1_Data']\")\n",
    "    for n in action.iter():\n",
    "        if(n.tag == 'fileLocation'):\n",
    "            t = n.attrib\n",
    "            t2 = folder_location + t['href'][1:]\n",
    "\n",
    "    \n",
    "    # add the path of the image that will be added\n",
    "    t_images.append(folder_location + \"/B11_10m.jp2\")\n",
    "      \n",
    "     # open the first band to get the necessary proprieties to correctly convert the B11_20m into B11_10m  \n",
    "    _temp_img = gdal.Open(t1)\n",
    "    transf = _temp_img.GetGeoTransform()\n",
    "    proj = _temp_img.GetProjection()\n",
    "    \n",
    "    print()\n",
    "    print(\"GeoTransform: {}\".format(transf))\n",
    "    print(\"Projection: {}\".format(proj))     \n",
    "    print(\"Size is {} x {} x {}\".format(_temp_img.RasterXSize,\n",
    "                                    _temp_img.RasterYSize,\n",
    "                                    _temp_img.RasterCount))\n",
    "    \n",
    "    # find first the original pixel size\n",
    "    # http://www2.geog.ucl.ac.uk/~plewis/geogg122_local/geogg122-old/Chapter4_GDAL/GDAL_Python_bindings.html\n",
    "    up_left_east_coord, ew_pixel_space, rot, up_left_north_coord, rot2, ns_pixel_spacing = _temp_img.GetGeoTransform()\n",
    "    pixel_res = ew_pixel_space\n",
    "    resampling_method = \"near\"\n",
    "\n",
    "    transform_image(pixel_res, resampling_method, t2, t_images[2])\n",
    "\n",
    "\n",
    "\n",
    "    # create the matrix to save the full image with the 4 bands, plus the 3 new indices that will be created\n",
    "    # in computer vision the axis start on upper left conner \n",
    "    cols = _temp_img.RasterXSize\n",
    "    rows = _temp_img.RasterYSize\n",
    "    \n",
    "    img_array = np.zeros((rows, cols, 4), dtype=np.float32)\n",
    "    img_array[:,:, 0] = _temp_img.GetRasterBand(1).ReadAsArray()\n",
    "    \n",
    "    for img in range(0, len(t_images)):\n",
    "        print(\"New band:\", t_images[img])\n",
    "        _temp_img = gdal.Open(t_images[img])\n",
    "        img_array[:,:, img+1] = _temp_img.GetRasterBand(1).ReadAsArray()    \n",
    "\n",
    "\n",
    "    \n",
    "    # cleaning\n",
    "    _temp_img = None    \n",
    "    del _temp_img, t_images\n",
    "    gc.collect() \n",
    "    \n",
    "        \n",
    "\n",
    "\n",
    "    return img_array, transf, proj"
   ]
  },
  {
   "cell_type": "markdown",
   "metadata": {},
   "source": [
    "#### Create new indices based on the 4 bands"
   ]
  },
  {
   "cell_type": "code",
   "execution_count": 94,
   "metadata": {},
   "outputs": [],
   "source": [
    "def create_indices(img_array):\n",
    "    \"\"\"\n",
    "    From the bands create new indices\n",
    "\n",
    "    Parameters\n",
    "    ----------\n",
    "    img_array : numpy array\n",
    "    Returns\n",
    "    -------\n",
    "    final_img_array : numpy array\n",
    "    \"\"\"\n",
    "    final_img_array = np.zeros((img_array.shape[0], img_array.shape[1], 3), dtype=np.float32)\n",
    "    \n",
    "    print(\"\\nCreate indices\")\n",
    "    \n",
    "    final_img_array[:, :, 0] = np.divide((img_array[:,:,1]-img_array[:,:,3]), (img_array[:,:,1]+img_array[:,:,3]))\n",
    "    print(\"MNDWI created\")\n",
    "\n",
    "    final_img_array[:, :, 1] = np.divide((img_array[:,:,3]-img_array[:,:,2]),(img_array[:,:,3]+img_array[:,:,2]))\n",
    "    print(\"NDVI created\")\n",
    "    \n",
    "    # this matrix is no longer needed\n",
    "    del img_array\n",
    "    gc.collect()\n",
    "    \n",
    "    # https://stackoverflow.com/questions/26248654/how-to-return-0-with-divide-by-zero/40022737\n",
    "    a = abs(final_img_array[:, :, 0])-abs(final_img_array[:, :, 1])\n",
    "    b = abs(final_img_array[:, :, 0])+abs(final_img_array[:, :, 1])\n",
    "\n",
    "    with np.errstate(divide='ignore', invalid='ignore'):\n",
    "        c = np.divide(a, b)\n",
    "        c[ ~ np.isfinite( c )] = 0  # -inf inf NaN\n",
    "\n",
    "    final_img_array[:, :, 2] = c\n",
    "    print(\"MMRI created\")\n",
    "    \n",
    "    del a,b,c\n",
    "    return final_img_array"
   ]
  },
  {
   "cell_type": "markdown",
   "metadata": {},
   "source": [
    "## Normalize the data"
   ]
  },
  {
   "cell_type": "code",
   "execution_count": 95,
   "metadata": {},
   "outputs": [],
   "source": [
    "def array_normalizer(data_array):\n",
    "    # norm_mode 0 is for normalization between 0-1 and 1\n",
    "    \n",
    "    array_max = np.nanmax(data_array.astype(np.float32), axis=(0,1))\n",
    "    array_min = np.nanmin(data_array.astype(np.float32), axis=(0,1)) # calculating min with no zeros\n",
    "    \n",
    "    # normalizing between 0 - 1\n",
    "    data_array_norm = (data_array.astype(np.float32) - array_min.astype(np.float32))/(array_max.astype(np.float32) - array_min.astype(np.float32))\n",
    "\n",
    "    return data_array_norm"
   ]
  },
  {
   "cell_type": "markdown",
   "metadata": {},
   "source": [
    "#### Create the tiles"
   ]
  },
  {
   "cell_type": "code",
   "execution_count": 96,
   "metadata": {},
   "outputs": [],
   "source": [
    "def array_cutter(data_arr, tile_size_x, tile_size_y):\n",
    "    \"\"\"\n",
    "    This function cuts an array into different parts based on [tile_size_x, tile_size_y] and save them in nparray.\n",
    "\n",
    "    Parameters\n",
    "    ----------\n",
    "    data_arr : numpy array in 3 dim\n",
    "    tile_size_x : int\n",
    "    tile_size_y : int\n",
    "\n",
    "    Returns\n",
    "    -------\n",
    "    tiles_array : numpy array in 4 dim [n_tiles, 512, 512, n_bands]\n",
    "    n_tiles_x : int\n",
    "    n_tiles_y : int\n",
    "    \"\"\"\n",
    "\n",
    "    # If the image has 2D array (e.g. 1980, 1980) converts it to 3D array (e.g. 1980, 1980, 1)\n",
    "    if len(data_arr.shape) == 2:\n",
    "          data_arr = data_arr[..., np.newaxis]\n",
    "\n",
    "    # Replace Nane with 0.0000\n",
    "    data_arr = np.nan_to_num(data_arr, nan = 0.0000)\n",
    "\n",
    "    xsize, ysize, depth = data_arr.shape\n",
    "    img_counter = 0\n",
    "    \n",
    "    # find the number of tiles and how many pixeis are left from the tiles dimensions provided\n",
    "    n_tiles_x, pad_x = divmod(xsize, tile_size_x)\n",
    "    n_tiles_y, pad_y = divmod(ysize, tile_size_y)\n",
    "    \n",
    "    # if there are pixeis left, we need to add extra tiles\n",
    "    if(pad_x != 0): n_tiles_x += 1\n",
    "    if(pad_y != 0): n_tiles_y += 1\n",
    "    \n",
    "    total_tiles = n_tiles_x*n_tiles_y\n",
    "    \n",
    "    # compute the necessary pads to complete the tiles with the left pixeis\n",
    "    pad_x = tile_size_x - pad_x\n",
    "    pad_y = tile_size_y - pad_y\n",
    "    \n",
    "    # 4D structure to save the tiles: n_tiles_total, xsize*ysize with depth bands plus one band for the prediction (to be added later)\n",
    "    tiles_array = np.zeros((total_tiles, tile_size_x, tile_size_y, depth), dtype=np.float32)\n",
    "\n",
    "    \n",
    "    print(\"Horizontal tiles: \", n_tiles_x)\n",
    "    print(\"Vertical tiles: \", n_tiles_y)\n",
    "    print(\"Total tiles: \", n_tiles_x*n_tiles_y)\n",
    "    print(\"pad x: \", pad_x)\n",
    "    print(\"pad y: \", pad_y)\n",
    "    print(\"Size of final structure: \", tiles_array.shape)\n",
    "\n",
    "    for cntr_i, i in enumerate(range(0, xsize, tile_size_x)):\n",
    "        for cntr_j, j in enumerate(range(0, ysize, tile_size_y)):\n",
    "\n",
    "            gen_size = data_arr[ i:i+tile_size_x, j:j+tile_size_y,:].shape\n",
    "            \n",
    "            # test to see if the tile has the defined regular size\n",
    "            if gen_size == (tile_size_x, tile_size_y, data_arr[ i:i+tile_size_x, j:j+tile_size_y,:].shape[2]):\n",
    "                tiles_array[img_counter,:,:,:depth] = data_arr[i:i+tile_size_x, j:j+tile_size_y,:]\n",
    "                img_counter += 1\n",
    "\n",
    "            else:\n",
    "                if(gen_size[0] != tile_size_x and gen_size[1] != tile_size_y):\n",
    "                    tiles_array[img_counter,:,:,:depth] = np.pad(data_arr[i:i+tile_size_x, j:j+tile_size_y, :], pad_width = [(0, pad_x), (0, pad_y), (0, 0)], mode='reflect') # The mode can be ['constant', 'edge', 'wrap', 'reflect', 'symmetric']\n",
    "                \n",
    "                elif(gen_size[0] != tile_size_x):\n",
    "                    tiles_array[img_counter,:,:,:depth] = np.pad(data_arr[i:i+tile_size_x, j:j+tile_size_y, :], pad_width = [(0, pad_x), (0, 0), (0, 0)], mode='reflect')\n",
    "                    \n",
    "                elif(gen_size[1] != tile_size_y):\n",
    "                    tiles_array[img_counter,:,:,:depth] = np.pad(data_arr[i:i+tile_size_x, j:j+tile_size_y, :], pad_width = [(0, 0), (0, pad_y), (0, 0)], mode='reflect') # The mode can be ['constant', 'edge', 'wrap', 'reflect', 'symmetric']\n",
    "\n",
    "                img_counter += 1\n",
    "                    \n",
    "    return tiles_array, n_tiles_x, n_tiles_y, pad_x, pad_y"
   ]
  },
  {
   "cell_type": "markdown",
   "metadata": {},
   "source": [
    "#### Recreate the image and save it"
   ]
  },
  {
   "cell_type": "code",
   "execution_count": 97,
   "metadata": {},
   "outputs": [],
   "source": [
    "def create_image(my_data_path, tiles_array, n_tiles_x, n_tiles_y, tile_size, dim_x, dim_y, n_bands, pad_x, pad_y, transf, proj):\n",
    "    \"\"\"\n",
    "    From the numpy array wiht tiles, recreate the full image\n",
    "\n",
    "    Parameters\n",
    "    ----------\n",
    "    tiles_array : numpy array\n",
    "    n_tiles_x : int\n",
    "    n_tiles_y : int\n",
    "    tile_size : int\n",
    "    dim_x : int\n",
    "    dim_y : int\n",
    "    n_bands : int\n",
    "    transf : gdal object\n",
    "        DESCRIPTION.\n",
    "    proj : gdal object\n",
    "    Returns\n",
    "    -------\n",
    "    None.\n",
    "\n",
    "    \"\"\"    \n",
    "    \n",
    "    array_to_write = np.zeros((dim_x+pad_x, dim_y+pad_y, n_bands), dtype=np.float32)\n",
    "    p=0\n",
    "    for x_pos in range(n_tiles_x):\n",
    "        for y_pos in range(n_tiles_y):\n",
    "            array_to_write[tile_size*x_pos:tile_size*x_pos+tile_size, tile_size*y_pos:tile_size*y_pos+tile_size, 0] = tiles_array[p,:,:]\n",
    "            p+=1\n",
    "    \n",
    "    \n",
    "    # array_to_write = np.reshape(tiles_array, (dim_y+pad_y, dim_x+pad_x, n_bands))\n",
    "    print(array_to_write[:dim_x, :dim_y, :].shape)\n",
    "    \n",
    "    # replace the values with ints\n",
    "    _temp = array_to_write.copy()\n",
    "    _temp = np.where((_temp >= 0) & (_temp <= 0.1), 3, _temp)\n",
    "    _temp = np.where((_temp > 0.1) & (_temp <= 0.2), 3, _temp)\n",
    "    _temp = np.where((_temp > 0.2) & (_temp <= 0.3), 3, _temp)\n",
    "    _temp = np.where((_temp > 0.3) & (_temp <= 0.4), 4, _temp)\n",
    "    _temp = np.where((_temp > 0.4) & (_temp <= 0.5), 5, _temp)\n",
    "    _temp = np.where((_temp > 0.5) & (_temp <= 0.6), 6, _temp)\n",
    "    _temp = np.where((_temp > 0.6) & (_temp <= 0.7), 7, _temp)\n",
    "    _temp = np.where((_temp > 0.7) & (_temp <= 0.8), 8, _temp)\n",
    "    _temp = np.where((_temp > 0.8) & (_temp <= 0.9), 9, _temp)\n",
    "    _temp = np.where((_temp > 0.9) & (_temp <= 1), 10, _temp)\n",
    "    \n",
    "    \n",
    "    print(\"size: \", _temp.shape[0]*_temp.shape[1])\n",
    "    print(_temp[_temp==0].shape)\n",
    "    print(_temp[_temp==1].shape)\n",
    "    print(_temp[_temp==2].shape)\n",
    "    print(_temp[_temp==3].shape)\n",
    "    print(_temp[_temp==4].shape)\n",
    "    print(_temp[_temp==5].shape)\n",
    "    print(_temp[_temp==6].shape)\n",
    "    print(_temp[_temp==7].shape)\n",
    "    print(_temp[_temp==8].shape)\n",
    "    print(_temp[_temp==9].shape)\n",
    "    print(_temp[_temp==10].shape)\n",
    "    \n",
    "    \"\"\"\n",
    "    print(np.unique(_temp))\n",
    "    \n",
    "    print(np.unique(_temp, return_counts=True))\n",
    "    \"\"\"\n",
    "    \n",
    "    cols, rows, n_bands = array_to_write[:dim_x, :dim_y, :].shape\n",
    "    \n",
    "    outFileName = input_identifier + \"_MANGROVE_PREDICTION.tiff\"\n",
    "    driver = gdal.GetDriverByName(\"GTiff\")\n",
    "\n",
    "    outdata = driver.Create(outFileName, rows, cols, n_bands, gdal.GDT_Byte, options=['COMPRESS=DEFLATE','PREDICTOR=1'])\n",
    "    \n",
    "    \n",
    "    outdata.SetGeoTransform(transf)##sets same geotransform as input\n",
    "    outdata.SetProjection(proj)##sets same projection as input\n",
    "    \n",
    "    for band in range(0, n_bands):\n",
    "        outdata.GetRasterBand(band+1).WriteArray(_temp[:dim_x, :dim_y, band])\n",
    "    \n",
    "    # https://gis.stackexchange.com/questions/325615/store-geotiff-with-color-table-python/325751\n",
    "    # https://gis.stackexchange.com/questions/352495/converted-vector-to-raster-file-is-black-and-white-in-colour-gdal-rasterize\n",
    "    # https://github.com/mapbox/rasterio/issues/100\n",
    "    band = outdata.GetRasterBand(1)\n",
    "    band.SetNoDataValue(0.0)\n",
    "    # create color table\n",
    "    colors = gdal.ColorTable()\n",
    "\n",
    "    # set color for each value\n",
    "    #colors.SetColorEntry(0, (215, 25, 28, 0))\n",
    "    #colors.SetColorEntry(1, (231, 84, 55, 0))\n",
    "    #colors.SetColorEntry(2, (246, 144, 83, 0))\n",
    "    colors.SetColorEntry(3, (254, 190, 116, 0))\n",
    "    colors.SetColorEntry(4, (255, 223, 154, 0))\n",
    "    colors.SetColorEntry(5, (255, 255, 191, 0))\n",
    "    colors.SetColorEntry(6, (222, 242, 180, 0))\n",
    "    colors.SetColorEntry(7, (188, 228, 170, 0))\n",
    "    colors.SetColorEntry(8, (145, 203, 169, 0))\n",
    "    colors.SetColorEntry(9, (94, 167, 177, 0))\n",
    "    colors.SetColorEntry(10, (43, 131, 186, 0))\n",
    "\n",
    "    ## set color table and color interpretation ##\n",
    "    \n",
    "    # set color table for the \"png\" image\n",
    "    band.SetRasterColorTable(colors)\n",
    "    band.SetRasterColorInterpretation(gdal.GCI_SaturationBand)\n",
    "    \n",
    "    # set color table for the QGIS intrepertation \n",
    "    band.SetColorTable(colors)\n",
    "    \n",
    "    band.DeleteNoDataValue()\n",
    "\n",
    "\n",
    "    stats = band.GetStatistics(0,1)\n",
    "\n",
    "    \n",
    "    outdata.FlushCache() ##saves to disk!!\n",
    "    outdata = None\n",
    "    colors = None\n",
    "    band = None\n",
    "    print(\"image created\")  "
   ]
  },
  {
   "cell_type": "markdown",
   "metadata": {},
   "source": [
    "#### Gather the data"
   ]
  },
  {
   "cell_type": "code",
   "execution_count": 98,
   "metadata": {},
   "outputs": [
    {
     "name": "stdout",
     "output_type": "stream",
     "text": [
      "/workspace/data/S2B_MSIL2A_20190609T112119_N0212_R037_T28PDT_20190609T144134/S2B_MSIL2A_20190609T112119_N0212_R037_T28PDT_20190609T144134.SAFE/manifest.safe\n",
      "\n",
      "GeoTransform: (399960.0, 10.0, 0.0, 1300020.0, 0.0, -10.0)\n",
      "Projection: PROJCS[\"WGS 84 / UTM zone 28N\",GEOGCS[\"WGS 84\",DATUM[\"WGS_1984\",SPHEROID[\"WGS 84\",6378137,298.257223563,AUTHORITY[\"EPSG\",\"7030\"]],AUTHORITY[\"EPSG\",\"6326\"]],PRIMEM[\"Greenwich\",0,AUTHORITY[\"EPSG\",\"8901\"]],UNIT[\"degree\",0.0174532925199433,AUTHORITY[\"EPSG\",\"9122\"]],AUTHORITY[\"EPSG\",\"4326\"]],PROJECTION[\"Transverse_Mercator\"],PARAMETER[\"latitude_of_origin\",0],PARAMETER[\"central_meridian\",-15],PARAMETER[\"scale_factor\",0.9996],PARAMETER[\"false_easting\",500000],PARAMETER[\"false_northing\",0],UNIT[\"metre\",1,AUTHORITY[\"EPSG\",\"9001\"]],AXIS[\"Easting\",EAST],AXIS[\"Northing\",NORTH],AUTHORITY[\"EPSG\",\"32628\"]]\n",
      "Size is 10980 x 10980 x 1\n",
      "New band: /workspace/data/S2B_MSIL2A_20190609T112119_N0212_R037_T28PDT_20190609T144134/S2B_MSIL2A_20190609T112119_N0212_R037_T28PDT_20190609T144134.SAFE/GRANULE/L2A_T28PDT_A011789_20190609T113022/IMG_DATA/R10m/T28PDT_20190609T112119_B04_10m.jp2\n",
      "New band: /workspace/data/S2B_MSIL2A_20190609T112119_N0212_R037_T28PDT_20190609T144134/S2B_MSIL2A_20190609T112119_N0212_R037_T28PDT_20190609T144134.SAFE/GRANULE/L2A_T28PDT_A011789_20190609T113022/IMG_DATA/R10m/T28PDT_20190609T112119_B08_10m.jp2\n",
      "New band: /workspace/data/S2B_MSIL2A_20190609T112119_N0212_R037_T28PDT_20190609T144134/S2B_MSIL2A_20190609T112119_N0212_R037_T28PDT_20190609T144134.SAFE/B11_10m.jp2\n"
     ]
    }
   ],
   "source": [
    "array_t, transf, proj = read_bands_to_array(my_data_path)"
   ]
  },
  {
   "cell_type": "code",
   "execution_count": 99,
   "metadata": {},
   "outputs": [],
   "source": [
    "array_t = array_normalizer(array_t.astype(np.float32))"
   ]
  },
  {
   "cell_type": "code",
   "execution_count": 100,
   "metadata": {},
   "outputs": [
    {
     "name": "stdout",
     "output_type": "stream",
     "text": [
      "\n",
      "Create indices\n",
      "MNDWI created\n",
      "NDVI created\n",
      "MMRI created\n"
     ]
    }
   ],
   "source": [
    "array_t2 = create_indices(array_t[:, :, :])"
   ]
  },
  {
   "cell_type": "code",
   "execution_count": 101,
   "metadata": {},
   "outputs": [
    {
     "name": "stdout",
     "output_type": "stream",
     "text": [
      "Horizontal tiles:  22\n",
      "Vertical tiles:  22\n",
      "Total tiles:  484\n",
      "pad x:  284\n",
      "pad y:  284\n",
      "Size of final structure:  (484, 512, 512, 3)\n"
     ]
    }
   ],
   "source": [
    "dim_x, dim_y, bands = array_t2.shape\n",
    "tile_size = 512\n",
    "tiles_array, n_tiles_x, n_tiles_y, pad_x, pad_y  = array_cutter(array_t2, tile_size, tile_size)"
   ]
  },
  {
   "cell_type": "markdown",
   "metadata": {},
   "source": [
    "#### Run the model"
   ]
  },
  {
   "cell_type": "code",
   "execution_count": 102,
   "metadata": {},
   "outputs": [],
   "source": [
    "model_name = 'mangrove_model_V1.hdf5'\n",
    "LOCAL_MODEL_PATH = \"./{}\".format(model_name)\n",
    "APP_MODEL_PATH = \"/application/notebook/libexec/{}\".format(model_name)\n",
    "\n",
    "if os.path.isfile(LOCAL_MODEL_PATH):\n",
    "    mangrove_model = models.load_model(LOCAL_MODEL_PATH, compile=False)\n",
    "elif os.path.isfile(APP_MODEL_PATH):\n",
    "    mangrove_model = models.load_model(APP_MODEL_PATH, compile=False)\n",
    "else:\n",
    "    sys.exit()"
   ]
  },
  {
   "cell_type": "code",
   "execution_count": 103,
   "metadata": {},
   "outputs": [
    {
     "name": "stdout",
     "output_type": "stream",
     "text": [
      "484/484 [==============================] - 5363s 11s/sample\n",
      "Prediction completed\n"
     ]
    }
   ],
   "source": [
    "score = mangrove_model.predict(tiles_array[:, :, :, :], verbose=1, use_multiprocessing=True, max_queue_size=10, workers = 4)\n",
    "print(\"Prediction completed\")"
   ]
  },
  {
   "cell_type": "markdown",
   "metadata": {},
   "source": [
    "#### Reconstruct the image"
   ]
  },
  {
   "cell_type": "code",
   "execution_count": 104,
   "metadata": {},
   "outputs": [
    {
     "name": "stdout",
     "output_type": "stream",
     "text": [
      "(484, 512, 512, 4)\n",
      "(484, 512, 512)\n"
     ]
    }
   ],
   "source": [
    "print(score.shape)\n",
    "print(score[:,:,:,2].shape)"
   ]
  },
  {
   "cell_type": "code",
   "execution_count": 105,
   "metadata": {},
   "outputs": [
    {
     "name": "stdout",
     "output_type": "stream",
     "text": [
      "(10980, 10980, 1)\n",
      "size:  126877696\n",
      "(0,)\n",
      "(0,)\n",
      "(0,)\n",
      "(126865819,)\n",
      "(5522,)\n",
      "(3225,)\n",
      "(1861,)\n",
      "(876,)\n",
      "(349,)\n",
      "(44,)\n",
      "(0,)\n",
      "image created\n"
     ]
    }
   ],
   "source": [
    "dim_x, dim_y, _ = array_t.shape\n",
    "n_bands = 1\n",
    "#Note: only band 3 is important\n",
    "create_image(my_data_path, score[:,:,:,2], n_tiles_x, n_tiles_y, tile_size, dim_x, dim_y, n_bands, pad_x, pad_y, transf, proj)\n"
   ]
  },
  {
   "cell_type": "code",
   "execution_count": 119,
   "metadata": {},
   "outputs": [
    {
     "name": "stdout",
     "output_type": "stream",
     "text": [
      "\n",
      "GeoTransform: (-15.918140902383238, 9.10303122186868e-05, 0.0, 11.760044025669968, 0.0, -9.10303122186868e-05)\n",
      "Projection: GEOGCS[\"WGS 84\",DATUM[\"WGS_1984\",SPHEROID[\"WGS 84\",6378137,298.257223563,AUTHORITY[\"EPSG\",\"7030\"]],AUTHORITY[\"EPSG\",\"6326\"]],PRIMEM[\"Greenwich\",0],UNIT[\"degree\",0.0174532925199433,AUTHORITY[\"EPSG\",\"9122\"]],AXIS[\"Latitude\",NORTH],AXIS[\"Longitude\",EAST],AUTHORITY[\"EPSG\",\"4326\"]]\n",
      "Size is 11070 x 10923 x 1\n"
     ]
    }
   ],
   "source": [
    "#translate to the EPSG:4326\n",
    "outFileName = input_identifier + \"_MANGROVE_PREDICTION.tiff\"\n",
    "\n",
    "ds = gdal.Warp(srcDSOrSrcDSTab  = outFileName, destNameOrDestDS = \"_temp.tiff\", dstSRS='EPSG:4326')\n",
    "\n",
    "_temp_img = gdal.Open(\"_temp.tiff\")\n",
    "transf = _temp_img.GetGeoTransform()\n",
    "proj = _temp_img.GetProjection()\n",
    "    \n",
    "print()\n",
    "print(\"GeoTransform: {}\".format(transf))\n",
    "print(\"Projection: {}\".format(proj))     \n",
    "print(\"Size is {} x {} x {}\".format(_temp_img.RasterXSize,\n",
    "                                    _temp_img.RasterYSize,\n",
    "                                    _temp_img.RasterCount))\n",
    "ds=None\n",
    "os.remove(\"_temp.tiff\")"
   ]
  },
  {
   "cell_type": "markdown",
   "metadata": {},
   "source": [
    "#### Create proprieties file"
   ]
  },
  {
   "cell_type": "code",
   "execution_count": 120,
   "metadata": {},
   "outputs": [
    {
     "name": "stdout",
     "output_type": "stream",
     "text": [
      "Create proprities file\n",
      "2019-06-09T00:00:00Z/2019-06-09T23:59:59Z\n"
     ]
    }
   ],
   "source": [
    "print(\"Create proprities file\")\n",
    "# get the time stamp from the name of the file\n",
    "t_time = input_identifier.split(\"_\")\n",
    "tt1 = t_time[2][:8]\n",
    "tt1 = tt1[:4] + \"-\" + tt1[4:6] + \"-\" + tt1[6:]\n",
    "tt1 = tt1 + \"T00:00:00Z/\" + tt1 + \"T23:59:59Z\"\n",
    "print(tt1)"
   ]
  },
  {
   "cell_type": "code",
   "execution_count": 121,
   "metadata": {},
   "outputs": [],
   "source": [
    "# get the necessary geotransform variables\n",
    "minx = transf[0]\n",
    "maxy = transf[3]\n",
    "maxx = minx + transf[1] * dim_x\n",
    "miny = maxy + transf[5] * dim_y\n",
    "    \n",
    "wktstr = 'POLYGON(({0} {1}, {2} {1}, {2} {3}, {0} {3}, {0} {1}))'.format(minx, maxy, maxx, miny)"
   ]
  },
  {
   "cell_type": "code",
   "execution_count": 122,
   "metadata": {},
   "outputs": [],
   "source": [
    "title = \"Output \" + input_identifier + \"_MANGROVE_PREDICTION.tiff\"\n",
    "output_name = input_identifier + \"_MANGROVE_PREDICTION.tiff\"\n",
    "\n",
    "with open(output_name + '.properties', 'w') as file:\n",
    "    file.write('title=%s\\n' % title)\n",
    "    file.write('date=%s\\n' % (tt1))\n",
    "    file.write('geometry=%s' % (wktstr))"
   ]
  },
  {
   "cell_type": "markdown",
   "metadata": {},
   "source": [
    "#### Create the aux.xml file"
   ]
  },
  {
   "cell_type": "code",
   "execution_count": 109,
   "metadata": {},
   "outputs": [
    {
     "name": "stdout",
     "output_type": "stream",
     "text": [
      "<PAMDataset>\n",
      "  <PAMRasterBand band=\"1\">\n",
      "    <CategoryNames>\n",
      "      <Category>0.no Mangrove Probability</Category>\n",
      "      <Category>1.no Mangrove Probability</Category>\n",
      "      <Category>2.no Mangrove Probability</Category>\n",
      "      <Category>3.Very Very Low Mangrove Probability</Category>\n",
      "      <Category>4.Very Low Mangrove Probability</Category>\n",
      "      <Category>5.Low Mangrove Probability</Category>\n",
      "      <Category>6.Medium Low Mangrove Probability</Category>\n",
      "      <Category>7.Medium High Mangrove Probability</Category>\n",
      "      <Category>8.High Mangrove Probability</Category>\n",
      "      <Category>9.Very High Mangrove Probability</Category>\n",
      "      <Category>10.Very Very High Mangrove Probability</Category>\n",
      "    </CategoryNames>\n",
      "  </PAMRasterBand>\n",
      "</PAMDataset>\n"
     ]
    }
   ],
   "source": [
    "file_name='template.tiff.aux.xml'\n",
    "\n",
    "LOCAL_TEMPLATE_PATH = \"./{}\".format(file_name)\n",
    "APP_TEMPLATE_PATH = \"/application/notebook/libexec/{}\".format(file_name)\n",
    "\n",
    "if os.path.isfile(LOCAL_TEMPLATE_PATH):\n",
    "    file_name = LOCAL_TEMPLATE_PATH\n",
    "elif os.path.isfile(APP_TEMPLATE_PATH):\n",
    "    file_name = APP_TEMPLATE_PATH\n",
    "else:\n",
    "    sys.exit()\n",
    "\n",
    "f = open(file_name, \"r\")\n",
    "xml_content = None\n",
    "try: \n",
    "    xml_content = f.read()\n",
    "except Exception as e:\n",
    "    print(\"could not read xml\")\n",
    "    print(e)\n",
    "    sys.exit(1)\n",
    "finally:\n",
    "    f.close\n",
    "        \n",
    "print(xml_content)\n",
    "\n",
    "f = open(input_identifier + \"_MANGROVE_PREDICTION.tiff.aux.xml\", \"w\")\n",
    "f.write(xml_content)\n",
    "f.close()"
   ]
  },
  {
   "cell_type": "markdown",
   "metadata": {},
   "source": [
    "### <a name=\"license\">License"
   ]
  },
  {
   "cell_type": "markdown",
   "metadata": {},
   "source": [
    "This work is licenced under a [Attribution-ShareAlike 4.0 International License (CC BY-SA 4.0)](http://creativecommons.org/licenses/by-sa/4.0/) \n",
    "\n",
    "YOU ARE FREE TO:\n",
    "\n",
    "* Share - copy and redistribute the material in any medium or format.\n",
    "* Adapt - remix, transform, and built upon the material for any purpose, even commercially.\n",
    "\n",
    "UNDER THE FOLLOWING TERMS:\n",
    "\n",
    "* Attribution - You must give appropriate credit, provide a link to the license, and indicate if changes were made. You may do so in any reasonable manner, but not in any way that suggests the licensor endorses you or your use.\n",
    "* ShareAlike - If you remix, transform, or build upon the material, you must distribute your contributions under the same license as the original."
   ]
  }
 ],
 "metadata": {
  "kernelspec": {
   "display_name": "mangrove_final",
   "language": "python",
   "name": "mangrove_final"
  },
  "language_info": {
   "codemirror_mode": {
    "name": "ipython",
    "version": 3
   },
   "file_extension": ".py",
   "mimetype": "text/x-python",
   "name": "python",
   "nbconvert_exporter": "python",
   "pygments_lexer": "ipython3",
   "version": "3.7.6"
  }
 },
 "nbformat": 4,
 "nbformat_minor": 2
}
